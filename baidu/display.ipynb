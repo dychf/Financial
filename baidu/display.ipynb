{
 "cells": [
  {
   "cell_type": "code",
   "execution_count": 4,
   "metadata": {},
   "outputs": [
    {
     "data": {
      "text/html": [
       "<div>\n",
       "<style scoped>\n",
       "    .dataframe tbody tr th:only-of-type {\n",
       "        vertical-align: middle;\n",
       "    }\n",
       "\n",
       "    .dataframe tbody tr th {\n",
       "        vertical-align: top;\n",
       "    }\n",
       "\n",
       "    .dataframe thead th {\n",
       "        text-align: right;\n",
       "    }\n",
       "</style>\n",
       "<table border=\"1\" class=\"dataframe\">\n",
       "  <thead>\n",
       "    <tr style=\"text-align: right;\">\n",
       "      <th></th>\n",
       "      <th>名称</th>\n",
       "      <th>总股本</th>\n",
       "      <th>利润</th>\n",
       "      <th>增长率</th>\n",
       "      <th>给定PE</th>\n",
       "      <th>三年后利润</th>\n",
       "      <th>当前市值</th>\n",
       "      <th>三年后估值</th>\n",
       "      <th>理想买入点</th>\n",
       "      <th>理想卖出点</th>\n",
       "    </tr>\n",
       "  </thead>\n",
       "  <tbody>\n",
       "    <tr>\n",
       "      <th>0</th>\n",
       "      <td>海康威视</td>\n",
       "      <td>93.64</td>\n",
       "      <td>148.99</td>\n",
       "      <td>16.97</td>\n",
       "      <td>25.0</td>\n",
       "      <td>238.44</td>\n",
       "      <td>3736.21 (39.9)</td>\n",
       "      <td>5961.0 (63.66)</td>\n",
       "      <td>2980.5 (31.83)</td>\n",
       "      <td>7449.5 (79.55)</td>\n",
       "    </tr>\n",
       "  </tbody>\n",
       "</table>\n",
       "</div>"
      ],
      "text/plain": [
       "     名称    总股本      利润    增长率  给定PE   三年后利润            当前市值           三年后估值  \\\n",
       "0  海康威视  93.64  148.99  16.97  25.0  238.44  3736.21 (39.9)  5961.0 (63.66)   \n",
       "\n",
       "            理想买入点           理想卖出点  \n",
       "0  2980.5 (31.83)  7449.5 (79.55)  "
      ]
     },
     "execution_count": 4,
     "metadata": {},
     "output_type": "execute_result"
    }
   ],
   "source": [
    "from core import valuation\n",
    "\n",
    "valuation('002415', riskfree_rate=4)"
   ]
  },
  {
   "cell_type": "code",
   "execution_count": 5,
   "metadata": {},
   "outputs": [
    {
     "data": {
      "text/html": [
       "<div>\n",
       "<style scoped>\n",
       "    .dataframe tbody tr th:only-of-type {\n",
       "        vertical-align: middle;\n",
       "    }\n",
       "\n",
       "    .dataframe tbody tr th {\n",
       "        vertical-align: top;\n",
       "    }\n",
       "\n",
       "    .dataframe thead th {\n",
       "        text-align: right;\n",
       "    }\n",
       "</style>\n",
       "<table border=\"1\" class=\"dataframe\">\n",
       "  <thead>\n",
       "    <tr style=\"text-align: right;\">\n",
       "      <th></th>\n",
       "      <th>名称</th>\n",
       "      <th>总股本</th>\n",
       "      <th>利润</th>\n",
       "      <th>增长率</th>\n",
       "      <th>给定PE</th>\n",
       "      <th>三年后利润</th>\n",
       "      <th>当前市值</th>\n",
       "      <th>三年后估值</th>\n",
       "      <th>理想买入点</th>\n",
       "      <th>理想卖出点</th>\n",
       "    </tr>\n",
       "  </thead>\n",
       "  <tbody>\n",
       "    <tr>\n",
       "      <th>0</th>\n",
       "      <td>美的集团</td>\n",
       "      <td>69.97</td>\n",
       "      <td>272.96</td>\n",
       "      <td>10.15</td>\n",
       "      <td>16.67</td>\n",
       "      <td>364.8</td>\n",
       "      <td>3766.63 (53.83)</td>\n",
       "      <td>6080.0 (86.89)</td>\n",
       "      <td>3040.0 (43.45)</td>\n",
       "      <td>9120.0 (130.34)</td>\n",
       "    </tr>\n",
       "  </tbody>\n",
       "</table>\n",
       "</div>"
      ],
      "text/plain": [
       "     名称    总股本      利润    增长率   给定PE  三年后利润             当前市值           三年后估值  \\\n",
       "0  美的集团  69.97  272.96  10.15  16.67  364.8  3766.63 (53.83)  6080.0 (86.89)   \n",
       "\n",
       "            理想买入点            理想卖出点  \n",
       "0  3040.0 (43.45)  9120.0 (130.34)  "
      ]
     },
     "execution_count": 5,
     "metadata": {},
     "output_type": "execute_result"
    }
   ],
   "source": [
    "valuation('000333', riskfree_rate=6)"
   ]
  },
  {
   "cell_type": "code",
   "execution_count": 6,
   "metadata": {},
   "outputs": [
    {
     "data": {
      "text/html": [
       "<div>\n",
       "<style scoped>\n",
       "    .dataframe tbody tr th:only-of-type {\n",
       "        vertical-align: middle;\n",
       "    }\n",
       "\n",
       "    .dataframe tbody tr th {\n",
       "        vertical-align: top;\n",
       "    }\n",
       "\n",
       "    .dataframe thead th {\n",
       "        text-align: right;\n",
       "    }\n",
       "</style>\n",
       "<table border=\"1\" class=\"dataframe\">\n",
       "  <thead>\n",
       "    <tr style=\"text-align: right;\">\n",
       "      <th></th>\n",
       "      <th>名称</th>\n",
       "      <th>总股本</th>\n",
       "      <th>利润</th>\n",
       "      <th>增长率</th>\n",
       "      <th>给定PE</th>\n",
       "      <th>三年后利润</th>\n",
       "      <th>当前市值</th>\n",
       "      <th>三年后估值</th>\n",
       "      <th>理想买入点</th>\n",
       "      <th>理想卖出点</th>\n",
       "    </tr>\n",
       "  </thead>\n",
       "  <tbody>\n",
       "    <tr>\n",
       "      <th>0</th>\n",
       "      <td>格力电器</td>\n",
       "      <td>56.31</td>\n",
       "      <td>231.24</td>\n",
       "      <td>-2.21</td>\n",
       "      <td>16.67</td>\n",
       "      <td>216.25</td>\n",
       "      <td>2078.55 (36.91)</td>\n",
       "      <td>3604.17 (64.01)</td>\n",
       "      <td>1802.08 (32.0)</td>\n",
       "      <td>5406.26 (96.01)</td>\n",
       "    </tr>\n",
       "  </tbody>\n",
       "</table>\n",
       "</div>"
      ],
      "text/plain": [
       "     名称    总股本      利润   增长率   给定PE   三年后利润             当前市值            三年后估值  \\\n",
       "0  格力电器  56.31  231.24 -2.21  16.67  216.25  2078.55 (36.91)  3604.17 (64.01)   \n",
       "\n",
       "            理想买入点            理想卖出点  \n",
       "0  1802.08 (32.0)  5406.26 (96.01)  "
      ]
     },
     "execution_count": 6,
     "metadata": {},
     "output_type": "execute_result"
    }
   ],
   "source": [
    "valuation('000651', riskfree_rate=6)"
   ]
  }
 ],
 "metadata": {
  "kernelspec": {
   "display_name": "p37",
   "language": "python",
   "name": "python3"
  },
  "language_info": {
   "codemirror_mode": {
    "name": "ipython",
    "version": 3
   },
   "file_extension": ".py",
   "mimetype": "text/x-python",
   "name": "python",
   "nbconvert_exporter": "python",
   "pygments_lexer": "ipython3",
   "version": "3.7.13"
  },
  "orig_nbformat": 4
 },
 "nbformat": 4,
 "nbformat_minor": 2
}
