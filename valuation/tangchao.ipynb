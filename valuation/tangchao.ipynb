{
 "cells": [
  {
   "cell_type": "markdown",
   "metadata": {},
   "source": [
    "唐朝估值法\n",
    "\n",
    "企业的**确定性** \n",
    "1. 利润是否为真 \n",
    "2. 利润是否可持续 \n",
    "3. 维持当前盈利水平是否需要大量资本支出\n",
    "\n",
    "企业的成长性 \n",
    "1. 成长的幅度会有多大 \n",
    "2. 成长是否需要依赖于大量的再投资"
   ]
  },
  {
   "cell_type": "code",
   "execution_count": 13,
   "metadata": {},
   "outputs": [],
   "source": [
    "import numpy as np\n",
    "\n",
    "# 公司数据\n",
    "company='海康威视' # 名称\n",
    "code='002415' # 股票代码\n",
    "equity=94.33 # 总股本\n",
    "netprofit=168 # 上年净利润\n",
    "growthrates=[9.52,9.73,28.02] # 近三年净利润增长率(%)\n",
    "\n"
   ]
  },
  {
   "cell_type": "code",
   "execution_count": 14,
   "metadata": {},
   "outputs": [],
   "source": [
    "def stock_price(market, equity):\n",
    "    \"\"\"\n",
    "    计算股票价格, 股票价格=总市值/总股本\n",
    "    market: 市值\n",
    "    equity: 总股本\n",
    "    \"\"\"\n",
    "    return round(market/equity,2)\n",
    "\n",
    "def buysell(equity, netprofit, growthrate, riskfree_rate=4):\n",
    "    \"\"\"\n",
    "    计算买/卖点\n",
    "    equity: 总股本\n",
    "    netprofit: 净利润\n",
    "    growthrate: 增长率\n",
    "    riskfree_rate: 无风险收益率\n",
    "    \"\"\"\n",
    "    # 估算三年后净利润\n",
    "    netprofit_after=netprofit*(1+growthrate/100)**3\n",
    "\n",
    "    # 计算合理估值\n",
    "    valuation=netprofit_after*(100/riskfree_rate)\n",
    "    \n",
    "    # 买点1\n",
    "    buy=[]\n",
    "    buy.append(stock_price(valuation*0.5, equity))\n",
    "    buy.append(stock_price(valuation*0.5*0.9, equity))\n",
    "    buy.append(stock_price(valuation*0.5*0.8, equity))\n",
    "    buy.sort()\n",
    "\n",
    "    # 卖点\n",
    "    sell=[]\n",
    "    sell.append(stock_price(valuation*1.5, equity))\n",
    "    sell.append(stock_price(netprofit*50, equity))\n",
    "    sell.append(stock_price(netprofit*50*0.9, equity))\n",
    "    sell.append(stock_price(netprofit*50*0.8, equity))\n",
    "    sell.sort()\n",
    "    \n",
    "    return buy, sell[0:3]"
   ]
  },
  {
   "cell_type": "code",
   "execution_count": 15,
   "metadata": {},
   "outputs": [
    {
     "data": {
      "text/plain": [
       "(15.76, [27.62, 31.08, 34.53], [71.24, 80.14, 89.05])"
      ]
     },
     "execution_count": 15,
     "metadata": {},
     "output_type": "execute_result"
    }
   ],
   "source": [
    "# 增长率取平均值\n",
    "growthrate=np.mean(growthrates)\n",
    "growthrate\n",
    "buy, sell=buysell(equity, netprofit, growthrate)\n",
    "round(growthrate,2), buy, sell"
   ]
  },
  {
   "cell_type": "code",
   "execution_count": 16,
   "metadata": {},
   "outputs": [
    {
     "data": {
      "text/plain": [
       "(9.52, [23.4, 26.32, 29.24], [71.24, 80.14, 87.73])"
      ]
     },
     "execution_count": 16,
     "metadata": {},
     "output_type": "execute_result"
    }
   ],
   "source": [
    "# 增长率取最小值\n",
    "growthrate=np.min(growthrates)\n",
    "growthrate\n",
    "buy, sell=buysell(equity, netprofit, growthrate)\n",
    "round(growthrate,2), buy, sell"
   ]
  }
 ],
 "metadata": {
  "kernelspec": {
   "display_name": "Python 3.7.13 ('py37')",
   "language": "python",
   "name": "python3"
  },
  "language_info": {
   "codemirror_mode": {
    "name": "ipython",
    "version": 3
   },
   "file_extension": ".py",
   "mimetype": "text/x-python",
   "name": "python",
   "nbconvert_exporter": "python",
   "pygments_lexer": "ipython3",
   "version": "3.7.13"
  },
  "orig_nbformat": 4,
  "vscode": {
   "interpreter": {
    "hash": "51f394aac1e016c68a2e07e6e5c9a8b2a67bc9728f65aef75a6f73e993e27f5f"
   }
  }
 },
 "nbformat": 4,
 "nbformat_minor": 2
}
